{
 "cells": [
  {
   "cell_type": "code",
   "execution_count": 1,
   "metadata": {},
   "outputs": [
    {
     "name": "stdout",
     "output_type": "stream",
     "text": [
      "collect_submission.sh     \u001b[0m\u001b[01;34mmodel_bin_base\u001b[0m/           run.py\n",
      "data_preprocessing.ipynb  \u001b[01;34mmodel_bin_fin\u001b[0m/            \u001b[01;34msanity_check_en_es_data\u001b[0m/\n",
      "data_to_test.txt          \u001b[01;34mmodel_bin_fin2_temp\u001b[0m/      sanity_check.py\n",
      "\u001b[01;34men_es_data\u001b[0m/               model_embeddings_orig.py  \u001b[01;34mtrain_CNN\u001b[0m/\n",
      "\u001b[01;34men_es_data_origin\u001b[0m/        model_embeddings.py       Untitled1.ipynb\n",
      "gpu_requirements.txt      nmt_model_old.py          Untitled2.ipynb\n",
      "__init__.py               nmt_model_orig.py         Untitled.ipynb\n",
      "local_env.yml             nmt_model.py              utils_orig.py\n",
      "model_0505.tar.gz         \u001b[01;34moutputs\u001b[0m/                  utils.py\n",
      "\u001b[01;34mmodel_bin_0519_3\u001b[0m/         \u001b[01;34m__pycache__\u001b[0m/              vocab.json\n",
      "\u001b[01;34mmodel_bin_back\u001b[0m/           README.md                 vocab.py\n",
      "\u001b[01;34mmodel_bin_back_0519\u001b[0m/      run_en2ko.sh\n",
      "\u001b[01;34mmodel_bin_back_0519_2\u001b[0m/    run_old.sh\n"
     ]
    }
   ],
   "source": [
    "ls"
   ]
  },
  {
   "cell_type": "code",
   "execution_count": 4,
   "metadata": {},
   "outputs": [
    {
     "name": "stdout",
     "output_type": "stream",
     "text": [
      "en_es_data/\n",
      "en_es_data/.ipynb_checkpoints/\n",
      "en_es_data/train.ko\n",
      "en_es_data/test_origin.ko\n",
      "en_es_data/test_all.ko\n",
      "en_es_data/train.en\n",
      "en_es_data/test.ko\n",
      "en_es_data/train_donot_change/\n",
      "en_es_data/train_donot_change/train.ko\n",
      "en_es_data/train_donot_change/train.en\n",
      "en_es_data/test_all.en\n",
      "en_es_data/dev.en\n",
      "en_es_data/test.en\n",
      "en_es_data/test_origin.en\n",
      "en_es_data/dev.ko\n"
     ]
    }
   ],
   "source": [
    "!tar -czvf en_es.tar.gz en_es_data/"
   ]
  },
  {
   "cell_type": "code",
   "execution_count": 5,
   "metadata": {},
   "outputs": [
    {
     "name": "stdout",
     "output_type": "stream",
     "text": [
      "Copying file://en_es.tar.gz [Content-Type=application/x-tar]...\n",
      "==> NOTE: You are uploading one or more large file(s), which would run\n",
      "significantly faster if you enable parallel composite uploads. This\n",
      "feature can be enabled by editing the\n",
      "\"parallel_composite_upload_threshold\" value in your .boto\n",
      "configuration file. However, note that if you do this large files will\n",
      "be uploaded as `composite objects\n",
      "<https://cloud.google.com/storage/docs/composite-objects>`_,which\n",
      "means that any user who downloads such objects will need to have a\n",
      "compiled crcmod installed (see \"gsutil help crcmod\"). This is because\n",
      "without a compiled crcmod, computing checksums on composite objects is\n",
      "so slow that gsutil disables downloads of composite objects.\n",
      "\n",
      "/ [1/1 files][417.0 MiB/417.0 MiB] 100% Done                                    \n",
      "Operation completed over 1 objects/417.0 MiB.                                    \n"
     ]
    }
   ],
   "source": [
    "!gsutil -m cp en_es.tar.gz gs://root-territory-252903/NMT_2020_0513/"
   ]
  },
  {
   "cell_type": "code",
   "execution_count": 2,
   "metadata": {},
   "outputs": [
    {
     "name": "stdout",
     "output_type": "stream",
     "text": [
      "/home/jupyter/Project\n"
     ]
    }
   ],
   "source": [
    "!tar -czvf en2ko_0427_cnn_bcktr_061.tar.gz nmt"
   ]
  },
  {
   "cell_type": "code",
   "execution_count": null,
   "metadata": {},
   "outputs": [],
   "source": [
    "with open('train_CNN/new_data/to_Train_0515/outEn_old','r') as f:\n",
    "    en = f.read().split('\\n')\n",
    "with open('train_CNN/new_data/to_Train_0515/srcKo_old','r') as f:\n",
    "    ko = f.read().split('\\n')\n",
    "n = 0\n",
    "\n",
    "outEn = []\n",
    "srcKo = []\n",
    "for i in range(len(en)):\n",
    "    k = 0\n",
    "    for ws in toRid:\n",
    "        if ws in en[i]: #'which is the first time that the government'\n",
    "            k=1\n",
    "            break\n",
    "    if k==0:\n",
    "        outEn.append(en[i])\n",
    "        srcKo.append(ko[i])\n",
    "    n+=k\n",
    "with open('train_CNN/new_data/to_Train_0515/outEn','w') as f:\n",
    "    f.write('\\n'.join(outEn))\n",
    "with open('train_CNN/new_data/to_Train_0515/srcKo','w') as f:\n",
    "    f.write('\\n'.join(srcKo))\n",
    "n,len(srcKo),len(outEn)"
   ]
  },
  {
   "cell_type": "code",
   "execution_count": 48,
   "metadata": {},
   "outputs": [
    {
     "data": {
      "text/plain": [
       "(5094, 523024, 523024)"
      ]
     },
     "execution_count": 48,
     "metadata": {},
     "output_type": "execute_result"
    }
   ],
   "source": [
    "n,len(srcKo),len(outEn)"
   ]
  },
  {
   "cell_type": "code",
   "execution_count": 45,
   "metadata": {},
   "outputs": [
    {
     "data": {
      "text/plain": [
       "528118"
      ]
     },
     "execution_count": 45,
     "metadata": {},
     "output_type": "execute_result"
    }
   ],
   "source": [
    "len(en)"
   ]
  },
  {
   "cell_type": "code",
   "execution_count": 43,
   "metadata": {},
   "outputs": [
    {
     "data": {
      "text/plain": [
       "5094"
      ]
     },
     "execution_count": 43,
     "metadata": {},
     "output_type": "execute_result"
    }
   ],
   "source": [
    "n = 0\n",
    "for i in range(len(en)):\n",
    "    for ws in toRid:\n",
    "        if ws in en[i]: #'which is the first time that the government'\n",
    "            n+=1\n",
    "            break\n",
    "n"
   ]
  },
  {
   "cell_type": "code",
   "execution_count": 42,
   "metadata": {},
   "outputs": [
    {
     "data": {
      "text/plain": [
       "['there is a growing number of people in the country',\n",
       " 'which is the first time that the government',\n",
       " 'able to pay for the first time in the past',\n",
       " 'which is the first time that the government',\n",
       " 'on the verge of being held at the end of the year']"
      ]
     },
     "execution_count": 42,
     "metadata": {},
     "output_type": "execute_result"
    }
   ],
   "source": [
    "toRid=\"\"\"there is a growing number of people in the country_which is the first time that the government_able to pay for the first time in the past_which is the first time that the government_on the verge of being held at the end of the year\"\"\"\n",
    "toRid = toRid.split('_')\n",
    "toRid"
   ]
  },
  {
   "cell_type": "code",
   "execution_count": 50,
   "metadata": {},
   "outputs": [],
   "source": [
    "with open('en_es_data/train_donot_change/train.ko','r') as f:\n",
    "    X = f.read()\n",
    "with open('en_es_data/train.ko','w') as f:\n",
    "    f.write(X)\n",
    "with open('en_es_data/train_donot_change/train.en','r') as f:\n",
    "    X = f.read()\n",
    "with open('en_es_data/train.en','w') as f:\n",
    "    f.write(X)   "
   ]
  },
  {
   "cell_type": "code",
   "execution_count": 52,
   "metadata": {},
   "outputs": [],
   "source": [
    "with open('train_CNN/new_data/0502/srcKo', 'r') as f:\n",
    "    X = f.read()\n",
    "with open('en_es_data/train.ko','a') as f:\n",
    "    f.write(X)\n",
    "\n",
    "with open('train_CNN/new_data/0502/outEn', 'r') as f:\n",
    "    X = f.read()\n",
    "with open('en_es_data/train.en','a') as f:\n",
    "    f.write(X)\n",
    "with open('train_CNN/new_data/0505/srcKo', 'r') as f:\n",
    "    X = f.read()\n",
    "with open('en_es_data/train.ko','a') as f:\n",
    "    f.write(X)\n",
    "\n",
    "with open('train_CNN/new_data/0505/outEn', 'r') as f:\n",
    "    X = f.read()\n",
    "with open('en_es_data/train.en','a') as f:\n",
    "    f.write(X)"
   ]
  },
  {
   "cell_type": "code",
   "execution_count": 54,
   "metadata": {},
   "outputs": [
    {
     "data": {
      "text/plain": [
       "(2140059, 2140059)"
      ]
     },
     "execution_count": 54,
     "metadata": {},
     "output_type": "execute_result"
    }
   ],
   "source": [
    "with open('en_es_data/train.en','r') as f:\n",
    "    en = f.read().split('\\n')\n",
    "with open('en_es_data/train.ko','r') as f:\n",
    "    ko = f.read().split('\\n')\n",
    "len(en), len(ko)"
   ]
  },
  {
   "cell_type": "code",
   "execution_count": 55,
   "metadata": {},
   "outputs": [
    {
     "name": "stdout",
     "output_type": "stream",
     "text": [
      "100000\n",
      "Lawmaker Kim also claimed that while all Koreans tacitly acknowledge the value of the public interest in farming and rural areas , he leaves all responsibility for protecting and maintaining the farming industry to the farmers ' share .\n",
      "김 _ 의원 은 _ 또 _ 농업 _ 농촌 의 _ 공익 적 _ 가치 에 _ 대 해 _ 모든 _ 국민 이 _ 암묵적 으로 _ 인정 하 고 _ 있 지만 _ 농촌 을 _ 지키 고 _ 농업 을 _ 유지 하는 _ 모든 _ 책임 을 _ 농민 의 _ 몫 으로 만 _ 남기 ㅓ _ 놓고 _ 있 다고 _ 주장 했 다 . \n",
      "\n",
      "200000\n",
      "It appears that the Provisional Government of the Republic of Korea has not < re submitted > its balance sheets .\n",
      "임시정부 가 _ 결산 안 을 _ 다시 _ 제출 하지 는 _ 않 은 _ 것 으로 _ 보이 ㄴ 다 . \n",
      "\n",
      "300000\n",
      "Italy's Populist party , which has clashed with French President Emmanuel Macron , declared its support for the yellow vest protesters on the 7th ( local time ) .\n",
      "에 마 뉘 엘 _ 마크롱 _ 프랑스 _ 대통령 과 _ 사사 건 건 _ 충돌 해 _ 온 _ 이탈리아 _ 포퓰리즘 _ 정당 이 _ 7 일 ( 현지 시간 ) _ 노라 ㄴ _ 조끼 _ 시위대 에 _ 대한 _ 지지 를 _ 선언 했 다 . \n",
      "\n",
      "400000\n",
      "U.S. President Donald Trump said on the 15th ( local time ) that North Korean State Councilor Kim Jong Un gave him a telephone number that he could directly contact .\n",
      "도널드 _ 트럼프 _ 미국 _ 대통령 은 _ 15 일 ( 현지 시간 ) _ 김정 은 _ 북한 _ 국무위원장 이 _ 직접 _ 연락 할 _ 수 _ 있 는 _ 전화번호 를 _ 주 ㅓㅆ 다고 _ 밝히 ㅓㅆ 다 . \n",
      "\n",
      "500000\n",
      "It has been revealed that former and incumbent professors have attracted outside forces to defeat the incumbent president in the election held in October last year .\n",
      "지난해 _ 10 월 _ 치러지 ㄴ _ 전북 대학교 _ 총장 _ 선거 에서 _ 현직 _ 총장 을 _ 낙선 시키 려고 _ 전 현직 _ 교수 들이 _ 외부 세력 을 _ 끌어들이 ㄴ _ 정황 이 _ 드러나 ㅆ 다 . \n",
      "\n",
      "600000\n",
      "Unlike communicating with a leader such as a manager or coach , the effect of talking to colleagues actually showed greater on the ground .\n",
      "감독 이 나 _ 코치 _ 등 _ 지도자 와 _ 교감 하는 _ 것 과 _ 다르 게 _ 동료 와 _ 대화 하는 _ 효과 가 _ 실제 _ 그라운드 에서 _ 더 _ 크 게 _ 나타나 ㅆ 다고 _ 한다 . \n",
      "\n",
      "700000\n",
      "The story is about two men becoming friends by overcoming peculiar conflicts .\n",
      "두 _ 남자 가 _ 묘 한 _ 갈등 들 을 _ 극복 하 며 _ 우정 을 _ 쌓 아 나가 는 _ 이야기 다 . \n",
      "\n",
      "800000\n",
      "The Very Good Travel Agency , which guided the tourists , explained that nine teams of family tourists were aboard the ship which had an accident , and that most of them are believed to be in their 40s and 50s .\n",
      "관광객 들 을 _ 인솔 한 _ 참 좋 은 여행사 _ 측 은 _ 사고 _ 선박 에 _ 가족 _ 단위 _ 관광객 _ 9 개 _ 팀 이 _ 타 ㅆ 으며 _ 연령대 는 _ 대부분 _ 40 ∼ 50 대 로 _ 추정 하 고 _ 있 다고 _ 설명 했 다 . \n",
      "\n",
      "900000\n",
      "This method is called < hydro phil ic > , and there is also a < flat fish > method that uses the < 40 - 50 > air pressure platinum catalyst .\n",
      "이 _ 방법 은 _ 하이드 로 포 밍 이 라고 _ 불리 며 , _ 이 _ 밖 에 _ 압력 을 _ 더욱 _ 높이 ㅓ ( 40 ∼ 50 기압 ) _ 백금 _ 촉매 를 _ 사용 하는 _ 플랫 포 밍 _ 방법 도 _ 있 다 . \n",
      "\n",
      "1000000\n",
      "On December 19 , 18 74 , General Manager Martinez < Camp Force > had a rebellion against the Cabinet who supported the < second- year > woman , and the monarchy was carried out as king of Alfonso 12 , and Alfonso 12 was the king of the monarchy .\n",
      "18 74 년 _ 12 월 _ 19 일 _ 마르티네스 _ 캄 포스 _ 장군 이 _ 이사벨 _ 2 세 를 _ 지지 하던 _ 각료 에 _ 대항 하여 _ 반란 을 _ 일으키 ㅓㅆ 고 _ 알폰소 _ 12 세 를 _ 국왕 으로 _ 추대 하여 _ 왕정 _ 복고 가 _ 이루어지 ㅓㅆ 다 . _ 알폰소 _ 12 세 는 _ 18 76 년 _ 헌법 을 _ 제정 하여 _ 입헌군주제 를 _ 표방 하였 다 . \n",
      "\n",
      "1100000\n",
      "On May 7 , 20 02 , he fell down after the match against metal < Lu bric ants > , and died on May 13 of the same year .\n",
      "20 02 년 _ 5 월 _ 7 일 _ 메탈 루 흐 _ 자 포 르 지 아 와의 _ 경기 _ 후에 _ 쓰러지 ㅓㅆ 고 , _ 같 은 _ 해 _ 5 월 _ 13 일 _ 별세 하였 다 . \n",
      "\n",
      "1200000\n",
      "It was founded in 20 16 under the name of Ansan Mugunghwa Football Team .\n",
      "20 16 년 에 _ 안산 _ 무궁화 _ 축구단 이 라는 _ 이름 으로 _ 창단 되었 다 . \n",
      "\n",
      "1300000\n",
      "In addition , the < Dong sung > couple , who had been married in Mexico City on August 10 , 20 10 , have ruled that all 31 states in Mexico should be recognized as legitimate couples in all 31 states in Mexico , and in states that they are not issuing same-sex marriage certificates , courts are holding hands of couples who want to marry .\n",
      "또한 _ 20 10 년 _ 8 월 _ 10 일 _ 멕시코시티 에서 _ 결혼 한 _ 동성 부부 는 _ 멕시코 의 _ 모든 _ 31 개 _ 주 에서 _ 합법적 이 ㄴ _ 부부 로 _ 인정 받 아야 _ 한 다고 _ 판결 내리 ㅓㅆ 다 . _ 이 _ 후 _ 동성결혼 _ 증명서 를 _ 발급 하지 _ 않 는 _ 주 에서도 _ 법원 들이 _ 결혼 을 _ 원 하는 _ 동성커플 의 _ 손 을 _ 들어 주고 _ 있 다 . \n",
      "\n",
      "1400000\n",
      "Lee < Shi z i > < Un Show > ( unmanned < side - camera > ) , < Hor ti k > Ken ( < SM Q > ) , and < Jang kwang > ( < G NP > ) , Shin < Yong- woo > ( < AD P > ) , and Jang Young-gil ( SM ) .\n",
      "이 시즈카 _ 운 쇼 ( 무인 편 ~ S M _ 전기 ) , _ 호리 우 치 _ 켄 유 ( S M _ 후기 ) / 구 자형 ( 무인 편 ) , _ 장 광 ( A G ~ D P ) , _ 신용 우 ( D P ~ X Y ) , _ 장승 길 ( S M ) \n",
      "\n",
      "1500000\n",
      "At the station , subway service starts at 5 a.m. and will start at 5 : 45 a.m. , but if the train inspection and inspection will be carried out , the timetable will be simplified because of the train inspection and inspection .\n",
      "이 _ 역 에서는 _ 일반 _ 시간 에 _ 지하철 _ 운행 이 _ 오전 _ 5 시 부터 _ 시작 하여 _ 오전 _ 12 시 _ 45 분 까지 _ 한다 . _ 그러 나 _ 오후 _ 9 시가 _ 지나 ㄹ _ 경우 , _ 열차 _ 점검 이 랑 _ 검사 를 _ 실행 하기 _ 때문 에 _ 시간표 가 _ 비정 확 해지 ㄴ다고 _ 했 다 . \n",
      "\n",
      "1600000\n",
      "New < Zealand 's > < Over pass > ( the name < Over pass > ) has been held in Oakland since 20 06 , inspired by a comic market , and has expanded to creators outside the cartoon and animation fields .\n",
      "뉴질랜드 의 _ 오버 로드 ( 초기 _ 명칭 은 _ 동인 _ 오버 로드 ) 는 _ 코믹 마켓 에서 _ 영감 을 _ 받아 _ 20 06 년 부터 _ 오클랜드 에서 _ 개최 되어 _ 일본 의 _ 만화 와 _ 애니메이션 _ 분야 _ 외 의 _ 창작자 들 에게 까지 _ 확대 되었 다 . \n",
      "\n",
      "1700000\n",
      "The standard area of < Air po > is an area of < well- established > wing .\n",
      "에어 포 일 에서 _ 기준 _ 영역 이 _ 공 칭 _ 날개 _ 영역 이 다 . \n",
      "\n",
      "1800000\n",
      "On January 5 , the north wind operation was canceled , and < Ko z ari > von < Ben azi r > <unk> continued to battle at the < Al umin plain > Plains as part of a retreat toward Western barriers .\n",
      "1 월 _ 5 일 _ 북풍 _ 작전 은 _ 취소 되었 고 , _ 괴 츠 _ 폰 _ 베 를 리 힝엔 은 _ 서부 _ 방벽 을 _ 향 한 _ 퇴각 전 의 _ 일환 으로 _ 알자스 _ 평원 에서 _ 전투 를 _ 계속 했 다 . \n",
      "\n",
      "1900000\n",
      "The people don't know what the army is , because the force of the country ( Joseon ) is originally weak and the < Tae pyeong > years have continued the years .\n",
      "이 _ 나라 ( 조선 ) 의 _ 병력 은 _ 본래 _ 미약 하 고 _ 모든 _ 나라 _ 가운데 _ 맨 _ 끝 인 데 다가 _ 태평 세월 이 _ 년 을 _ 계속 해 _ 왔 으므로 _ 백성 들 은 _ 군대 가 _ 무엇인지 _ 모르 ㅂ니다 . \n",
      "\n",
      "2000000\n",
      "It is known as an airline that can continue to operate for nearly 50 years since < Y ura > London .\n",
      "유 라비 아 _ 런던 _ 이 _ 태생 으로 _ 현재 까지 _ 50 년 _ 가까이 에 _ 걸치 ㅓ _ 지속적 으로 _ 운항 을 _ 계속 할 _ 수 _ 있 는 _ 항공사 로 _ 알려지 ㅓ _ 있 다 . \n",
      "\n",
      "2100000\n",
      "It is the ground ground for the second line of the < two- line > platform .\n",
      "상대 식 _ 승강장 _ 2 면 _ 2 선 의 _ 지상역 이 다 . \n",
      "\n"
     ]
    }
   ],
   "source": [
    "for i in range(1,22):\n",
    "    print(i*100000)\n",
    "    print(en[i*100000])\n",
    "    print(ko[i*100000],'\\n')"
   ]
  },
  {
   "cell_type": "code",
   "execution_count": 9,
   "metadata": {},
   "outputs": [
    {
     "data": {
      "text/plain": [
       "(2145153, 2145153)"
      ]
     },
     "execution_count": 9,
     "metadata": {},
     "output_type": "execute_result"
    }
   ],
   "source": [
    "len(en), len(ko)"
   ]
  },
  {
   "cell_type": "code",
   "execution_count": null,
   "metadata": {},
   "outputs": [],
   "source": [
    "it will be difficult for him to be able to pay"
   ]
  },
  {
   "cell_type": "code",
   "execution_count": null,
   "metadata": {},
   "outputs": [],
   "source": [
    "for i in range(1010000,1010100):\n",
    "    print(i)\n",
    "    print(en[i])\n",
    "    print(ko[i],'\\n')"
   ]
  },
  {
   "cell_type": "code",
   "execution_count": null,
   "metadata": {},
   "outputs": [],
   "source": [
    "for i in range(1,21):\n",
    "    print(i*100000)\n",
    "    print(en[i*100000])\n",
    "    print(ko[i*100000],'\\n')"
   ]
  },
  {
   "cell_type": "code",
   "execution_count": 6,
   "metadata": {},
   "outputs": [],
   "source": [
    "with open('train_CNN/new_data/to_Train_0515/srcKo', 'r') as f:\n",
    "    X = f.read()\n",
    "with open('en_es_data/train.ko','a') as f:\n",
    "    f.write(X)\n",
    "\n",
    "with open('train_CNN/new_data/to_Train_0515/outEn', 'r') as f:\n",
    "    X = f.read()\n",
    "with open('en_es_data/train.en','a') as f:\n",
    "    f.write(X)\n",
    "    \n",
    "with open('train_CNN/new_data/0502/srcKo', 'r') as f:\n",
    "    X = f.read()\n",
    "with open('en_es_data/train.ko','a') as f:\n",
    "    f.write(X)\n",
    "\n",
    "with open('train_CNN/new_data/0502/outEn', 'r') as f:\n",
    "    X = f.read()\n",
    "with open('en_es_data/train.en','a') as f:\n",
    "    f.write(X)\n",
    "    \n",
    "with open('train_CNN/new_data/0505/srcKo', 'r') as f:\n",
    "    X = f.read()\n",
    "with open('en_es_data/train.ko','a') as f:\n",
    "    f.write(X)\n",
    "\n",
    "with open('train_CNN/new_data/0505/outEn', 'r') as f:\n",
    "    X = f.read()\n",
    "with open('en_es_data/train.en','a') as f:\n",
    "    f.write(X)"
   ]
  },
  {
   "cell_type": "code",
   "execution_count": 15,
   "metadata": {},
   "outputs": [],
   "source": [
    "with open('train_CNN/new_data/to_Train_0515/srcKo', 'r') as f:\n",
    "    ko = f.read().split('\\n')\n",
    "with open('train_CNN/new_data/to_Train_0515/outEn', 'r') as f:\n",
    "    en = f.read().split('\\n')\n"
   ]
  },
  {
   "cell_type": "code",
   "execution_count": 16,
   "metadata": {},
   "outputs": [
    {
     "name": "stdout",
     "output_type": "stream",
     "text": [
      "100\n",
      "In March 20 09 , Kim Young-ho , an honorary professor at Inha University , who was a co-representative of the Ham < Suk - hun > Peace Forum , claimed that he would be able to go to the publication of \" < Ham hun > < Ham hun > House , \" which was published in < Han gil > , which was published in < Han gil\n",
      "20 09 년 _ 3 월 _ 함석헌 평화 포럼 _ 공동대표 이 ㄴ _ 김영 호 _ 인하대 _ 명예교수 는 _ 한 길 사 에서 _ 30 권 으로 _ 발간 한 _ ' 함석헌 _ 저작 집 ' 에 _ 실 은 _ 글 _ ' 함석헌 _ 저작 집 _ 발간 에 _ 부치 는 _ 말 ' 에서 _ 그 가 _ 사회진화론 자 라고 _ 주장 했 다 . \n",
      "\n",
      "101\n",
      "Professor Kim < Sang- bong > explained , \" The < c ica das > has survived the < war - inferior > ethnic group and the relatively excellent ethnic groups survived . \"\n",
      "김 상봉 _ 교수 는 _ \" 사회진화론 은 _ 전쟁 으로 _ 열등 한 _ 종족 이 _ 도태 되 고 _ 상대적 으로 _ 우수 한 _ 종족 들 만이 _ 살아남 아 _ 인류 가 _ 발전 했 다는 _ 것 \" 이 라며 _ \" 사회진화론 자 들 은 _ 약자 가 _ 도태 되는 _ 것 은 _ 자연적 이 ㄴ _ 필연 이 므로 _ 이 를 _ 인위적 으로 _ 막 는 _ 것 은 _ 자연 법칙 을 _ 거스르 는 _ 일 이 라고 _ 본 다 \" 고 _ 설명 했 다 . \n",
      "\n",
      "102\n",
      "In 20 10 , Kim Young-ho refuted Professor Kim < Sang- bong 's > claim in an academic presentation titled \" Ham < Suk - hun > with Ham < Suk - hun > , \" in an academic presentation marking the inaugural meeting of the < Ham hun > Society held on March 16 .\n",
      "20 10 년 _ 김영 호 는 _ 3 월 _ 16 일 _ 열리 ㄴ _ 함석헌 학회 _ 창립총회 _ 기념 _ 학술 발표 에서 _ ' 함석헌 과 _ 사회진화론 ' 이 라는 _ 제목 의 _ 글 을 _ 통 해 _ 김 상봉 _ 교수 의 _ 주장 을 _ 재반박 하 고 _ 나서 ㅆ 다 . \n",
      "\n",
      "103\n",
      "Ham < Suk - hun > said , \" Who made a shy guy like me ? \"\n",
      "함석헌 은 _ ' 누 가 _ 나 처럼 _ 수줍 은 _ 놈 을 _ 미치 ㄴ 놈 을 _ 만들 어 _ 놓 았 느 냐 ' 라고 _ 하 기도 _ 했 다 . \n",
      "\n",
      "104\n",
      "The pianist Shin < Jae- deok > , who went to the < P iani st > Shin < Jae- deok > and composed of < pianist s > , Kim < Soon- nam > , who was born in 19 49 .\n",
      "수송 국민 학교 와 _ 경기 제 1 고등보통학교 를 _ 다니 면서 _ 피아니스트 _ 신 재 덕 에게 _ 피아노 _ 연주 를 , _ 작곡 가 _ 이건 우 에게 _ 작곡 을 _ 각각 _ 배우 ㅓㅆ 다 . _ 이때 _ 한국 이 _ 낳 은 _ 작곡 가 _ 김 순 남 을 _ 사사 했 다 . _ 19 49 년 _ 그 는 _ 홍콩 _ 로 이 덴 _ 스쿨 로 _ 전학 했 으며 , _ 한국 _ 전쟁 이 _ 발발 하기 _ 이전 _ 가족 이 _ 일본 으로 _ 이주 했 다 . \n",
      "\n",
      "105\n",
      "In 19 56 , Paik < Nam- jun > studied Western architecture , music history , and philosophy at the University of Munich and the University of Cologne , regardless of his graduation .\n",
      "19 56 년 _ 백남준 은 _ 졸업 과 _ 함께 _ 독일 로 _ 유학 을 _ 떠나 _ 뮌헨 _ 대학교 _ 및 _ 쾰른 _ 대학교 _ 등 에서 _ 서양 의 _ 건축 , _ 음악사 , _ 철학 _ 등 을 _ 공부 하였 다 . \n",
      "\n",
      "106\n",
      "In action music in Action Music in the German line , which has begun to become active since the 19 50 s , Paik < Nam- jun > played as an excellent performance artist that was called \" a cultural terrorist from Asia \" ( as Alan Cap ) .\n",
      "이후 _ 19 50 년 대 부터 _ 활발해지 기 _ 시작 한 _ 독일 _ 라인 _ 지역 의 _ 액션 뮤직 의 _ 현장 에서 _ 백남준 은 _ ' 아시아 에서 _ 온 _ 문화 테러리스트 ' ( 앨런 _ 카프 로 ) 라고 _ 불리 ㄹ _ 정도 의 _ 탁월 한 _ 퍼포먼스 _ 아티스트 로 _ 활약 했 다 . \n",
      "\n",
      "107\n",
      "In particular , the failure of German artist Carl < Go z atsu > , who had been engaged in radar and TV work , took a mirror and tested the possibility of media art using TV alone for more than two years .\n",
      "특 히 _ 레이다 와 _ T V _ 작업 에 _ 몰두 했 던 _ 독일 _ 작가 _ 칼 _ 오토 _ 괴 츠 의 _ 실패 를 _ 거울 _ 삼 아서 _ 2 년 여 _ 동안 _ 홀 로 _ T V 를 _ 활용 한 _ 미디어 _ 아트 로서의 _ 가능성 을 _ 탐 문하 고 _ 실험 했 다 . \n",
      "\n",
      "108\n",
      "It was involved in the Cinema Tech Film Makers , which was one of the center of the New York Underground Film Movement , and was also working on the video .\n",
      "뉴욕 _ 언더그라운드 _ 필름 _ 운동 의 _ 중심지 _ 중 _ 하나 이 ㅓㅆ 던 _ 시네마 테 크 _ 필름 메이커 스 에 _ 관여 했 으며 , _ 스스로 _ 영상 _ 작업 을 _ 진행 하 기도 _ 했 다 . \n",
      "\n",
      "109\n",
      "In particular , there is a growing number of people in the country , which is the first time that the government is in the middle of the year .\n",
      "또한 _ 첼 로 _ 연주자 이자 _ 뉴욕 _ 아 방 가르 드 _ 페스티벌 의 _ 기획자 이 ㅓㅆ 던 _ 샬럿 _ 무어 먼 과 _ 함께 _ 비디오 _ 아트 와 _ 음악 을 _ 혼합 한 _ 퍼포먼스 _ 작업 을 _ 활발 히 _ 펼치 ㅓㅆ 다 . \n",
      "\n"
     ]
    }
   ],
   "source": [
    "for i in range(10):\n",
    "    k = i+100\n",
    "    print(k)\n",
    "    print(en[k])\n",
    "    print(ko[k], '\\n')"
   ]
  },
  {
   "cell_type": "code",
   "execution_count": null,
   "metadata": {},
   "outputs": [],
   "source": []
  }
 ],
 "metadata": {
  "environment": {
   "name": "pytorch-gpu.1-4.m46",
   "type": "gcloud",
   "uri": "gcr.io/deeplearning-platform-release/pytorch-gpu.1-4:m46"
  },
  "kernelspec": {
   "display_name": "Python 3",
   "language": "python",
   "name": "python3"
  },
  "language_info": {
   "codemirror_mode": {
    "name": "ipython",
    "version": 3
   },
   "file_extension": ".py",
   "mimetype": "text/x-python",
   "name": "python",
   "nbconvert_exporter": "python",
   "pygments_lexer": "ipython3",
   "version": "3.7.6"
  }
 },
 "nbformat": 4,
 "nbformat_minor": 4
}
