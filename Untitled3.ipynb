{
 "cells": [
  {
   "cell_type": "code",
   "execution_count": 2,
   "metadata": {},
   "outputs": [
    {
     "name": "stdout",
     "output_type": "stream",
     "text": [
      "load test source sentences from [./en_es_data/test.en]\n",
      "load test target sentences from [./en_es_data/test.ko]\n",
      "load model from model.bin\n",
      "Decoding: 100%|█████████████████████████████| 1000/1000 [11:21<00:00,  1.47it/s]\n",
      "Corpus BLEU: 38.35259827659167\n"
     ]
    }
   ],
   "source": [
    "!sh run_en2ko.sh test"
   ]
  },
  {
   "cell_type": "code",
   "execution_count": 3,
   "metadata": {},
   "outputs": [
    {
     "name": "stdout",
     "output_type": "stream",
     "text": [
      "load test source sentences from [./en_es_data/test.en]\n",
      "load test target sentences from [./en_es_data/test.ko]\n",
      "load model from model.bin\n",
      "Decoding: 100%|█████████████████████████████| 1000/1000 [12:39<00:00,  1.32it/s]\n",
      "Corpus BLEU: 4.749819180206705\n"
     ]
    }
   ],
   "source": [
    "!sh run_en2ko.sh test"
   ]
  },
  {
   "cell_type": "code",
   "execution_count": 4,
   "metadata": {},
   "outputs": [
    {
     "name": "stdout",
     "output_type": "stream",
     "text": [
      "load test source sentences from [./en_es_data/test.en]\n",
      "load test target sentences from [./en_es_data/test.ko]\n",
      "load model from model.bin\n",
      "Decoding: 100%|█████████████████████████████| 1000/1000 [12:47<00:00,  1.30it/s]\n",
      "Corpus BLEU: 14.615999724311576\n"
     ]
    }
   ],
   "source": [
    "!sh run_en2ko.sh test"
   ]
  },
  {
   "cell_type": "code",
   "execution_count": 5,
   "metadata": {},
   "outputs": [
    {
     "name": "stdout",
     "output_type": "stream",
     "text": [
      "load test source sentences from [./en_es_data/test.en]\n",
      "load test target sentences from [./en_es_data/test.ko]\n",
      "load model from model.bin\n",
      "Decoding: 100%|█████████████████████████████| 1000/1000 [11:31<00:00,  1.45it/s]\n",
      "Corpus BLEU: 29.15330527582792\n"
     ]
    }
   ],
   "source": [
    "!sh run_en2ko.sh test"
   ]
  },
  {
   "cell_type": "code",
   "execution_count": 6,
   "metadata": {},
   "outputs": [
    {
     "name": "stdout",
     "output_type": "stream",
     "text": [
      "load test source sentences from [./en_es_data/test.en]\n",
      "load test target sentences from [./en_es_data/test.ko]\n",
      "load model from model.bin\n",
      "Decoding: 100%|█████████████████████████████| 1000/1000 [11:43<00:00,  1.42it/s]\n",
      "Corpus BLEU: 30.00812569452736\n"
     ]
    }
   ],
   "source": [
    "!sh run_en2ko.sh test"
   ]
  },
  {
   "cell_type": "code",
   "execution_count": 7,
   "metadata": {},
   "outputs": [
    {
     "name": "stdout",
     "output_type": "stream",
     "text": [
      "load test source sentences from [./en_es_data/test.en]\n",
      "load test target sentences from [./en_es_data/test.ko]\n",
      "load model from model.bin\n",
      "Decoding: 100%|█████████████████████████████| 1000/1000 [11:03<00:00,  1.51it/s]\n",
      "Corpus BLEU: 31.28593046406095\n"
     ]
    }
   ],
   "source": [
    "!sh run_en2ko.sh test"
   ]
  },
  {
   "cell_type": "code",
   "execution_count": 8,
   "metadata": {},
   "outputs": [
    {
     "name": "stdout",
     "output_type": "stream",
     "text": [
      "load test source sentences from [./en_es_data/test.en]\n",
      "load test target sentences from [./en_es_data/test.ko]\n",
      "load model from model.bin\n",
      "Decoding: 100%|█████████████████████████████| 1000/1000 [10:44<00:00,  1.55it/s]\n",
      "Corpus BLEU: 31.30223246145722\n"
     ]
    }
   ],
   "source": [
    "!sh run_en2ko.sh test"
   ]
  },
  {
   "cell_type": "code",
   "execution_count": 9,
   "metadata": {},
   "outputs": [
    {
     "name": "stdout",
     "output_type": "stream",
     "text": [
      "load test source sentences from [./en_es_data/test.en]\n",
      "load test target sentences from [./en_es_data/test.ko]\n",
      "load model from model.bin\n",
      "Decoding: 100%|█████████████████████████████| 1000/1000 [10:56<00:00,  1.52it/s]\n",
      "Corpus BLEU: 32.322853971913865\n"
     ]
    }
   ],
   "source": [
    "!sh run_en2ko.sh test"
   ]
  },
  {
   "cell_type": "code",
   "execution_count": 10,
   "metadata": {},
   "outputs": [
    {
     "name": "stdout",
     "output_type": "stream",
     "text": [
      "load test source sentences from [./en_es_data/test.en]\n",
      "load test target sentences from [./en_es_data/test.ko]\n",
      "load model from model.bin\n",
      "Decoding: 100%|█████████████████████████████| 1000/1000 [11:25<00:00,  1.46it/s]\n",
      "Corpus BLEU: 32.135604254621\n"
     ]
    }
   ],
   "source": [
    "!sh run_en2ko.sh test"
   ]
  },
  {
   "cell_type": "code",
   "execution_count": 11,
   "metadata": {},
   "outputs": [
    {
     "name": "stdout",
     "output_type": "stream",
     "text": [
      "load test source sentences from [./en_es_data/test.en]\n",
      "load test target sentences from [./en_es_data/test.ko]\n",
      "load model from model.bin\n",
      "Decoding: 100%|█████████████████████████████| 1000/1000 [11:37<00:00,  1.43it/s]\n",
      "Corpus BLEU: 32.14458247754265\n"
     ]
    }
   ],
   "source": [
    "!sh run_en2ko.sh test"
   ]
  },
  {
   "cell_type": "code",
   "execution_count": 12,
   "metadata": {},
   "outputs": [
    {
     "name": "stdout",
     "output_type": "stream",
     "text": [
      "load test source sentences from [./en_es_data/test.en]\n",
      "load test target sentences from [./en_es_data/test.ko]\n",
      "load model from model.bin\n",
      "Decoding: 100%|█████████████████████████████| 1000/1000 [11:39<00:00,  1.43it/s]\n",
      "Corpus BLEU: 33.198897293915905\n"
     ]
    }
   ],
   "source": [
    "!sh run_en2ko.sh test"
   ]
  },
  {
   "cell_type": "code",
   "execution_count": 13,
   "metadata": {},
   "outputs": [
    {
     "name": "stdout",
     "output_type": "stream",
     "text": [
      "load test source sentences from [./en_es_data/test.en]\n",
      "load test target sentences from [./en_es_data/test.ko]\n",
      "load model from model.bin\n",
      "Decoding: 100%|█████████████████████████████| 1000/1000 [11:47<00:00,  1.41it/s]\n",
      "Corpus BLEU: 32.97413777036379\n"
     ]
    }
   ],
   "source": [
    "!sh run_en2ko.sh test"
   ]
  },
  {
   "cell_type": "code",
   "execution_count": null,
   "metadata": {},
   "outputs": [],
   "source": []
  }
 ],
 "metadata": {
  "environment": {
   "name": "pytorch-gpu.1-4.m46",
   "type": "gcloud",
   "uri": "gcr.io/deeplearning-platform-release/pytorch-gpu.1-4:m46"
  },
  "kernelspec": {
   "display_name": "Python 3",
   "language": "python",
   "name": "python3"
  },
  "language_info": {
   "codemirror_mode": {
    "name": "ipython",
    "version": 3
   },
   "file_extension": ".py",
   "mimetype": "text/x-python",
   "name": "python",
   "nbconvert_exporter": "python",
   "pygments_lexer": "ipython3",
   "version": "3.7.6"
  }
 },
 "nbformat": 4,
 "nbformat_minor": 4
}
