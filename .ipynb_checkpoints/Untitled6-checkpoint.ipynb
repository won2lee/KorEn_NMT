{
 "cells": [
  {
   "cell_type": "code",
   "execution_count": 6,
   "metadata": {},
   "outputs": [
    {
     "name": "stdout",
     "output_type": "stream",
     "text": [
      "char_size : 85\n",
      "uniformly initialize parameters [-0.100000, +0.100000]\n",
      "use device: cpu\n",
      "begin Maximum Likelihood training\n",
      "slang : en, tlang : ko\n",
      "start back-translation ................\n",
      "Traceback (most recent call last):\n",
      "  File \"run.py\", line 694, in <module>\n",
      "    main()\n",
      "  File \"run.py\", line 684, in main\n",
      "    train(args)\n",
      "  File \"run.py\", line 296, in train\n",
      "    max_decoding_time_step= 100, slang = langs[ik%2], tlang = langs[(ik+1)%2], mapping = 0)\n",
      "  File \"run.py\", line 657, in greedy_search\n",
      "    sents, scores = model.greedy_search(src_snts, max_decoding_time_step=max_decoding_time_step,slang=slang,tlang=tlang,mapping=mapping)\n",
      "  File \"/home/jupyter/Project/nmt_bi_mono_mapping_combined_0717/nmt_model.py\", line 1351, in greedy_search\n",
      "    src_sents_var, src_len = self.parallel_encode_new(src_sent, slang, mapping=mapping) \n",
      "  File \"/home/jupyter/Project/nmt_bi_mono_mapping_combined_0717/nmt_model.py\", line 399, in parallel_encode_new\n",
      "    cap_id, len_X = get_X_cap(source, sbol)\n",
      "NameError: name 'get_X_cap' is not defined\n"
     ]
    }
   ],
   "source": [
    "!sh run_en2ko.sh train"
   ]
  },
  {
   "cell_type": "code",
   "execution_count": null,
   "metadata": {},
   "outputs": [],
   "source": []
  }
 ],
 "metadata": {
  "environment": {
   "name": "pytorch-gpu.1-4.m46",
   "type": "gcloud",
   "uri": "gcr.io/deeplearning-platform-release/pytorch-gpu.1-4:m46"
  },
  "kernelspec": {
   "display_name": "Python 3",
   "language": "python",
   "name": "python3"
  },
  "language_info": {
   "codemirror_mode": {
    "name": "ipython",
    "version": 3
   },
   "file_extension": ".py",
   "mimetype": "text/x-python",
   "name": "python",
   "nbconvert_exporter": "python",
   "pygments_lexer": "ipython3",
   "version": "3.7.6"
  }
 },
 "nbformat": 4,
 "nbformat_minor": 4
}
