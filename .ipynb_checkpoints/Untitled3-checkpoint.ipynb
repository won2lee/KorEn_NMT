{
 "cells": [],
 "metadata": {
  "environment": {
   "name": "pytorch-gpu.1-4.m46",
   "type": "gcloud",
   "uri": "gcr.io/deeplearning-platform-release/pytorch-gpu.1-4:m46"
  }
 },
 "nbformat": 4,
 "nbformat_minor": 4
}
