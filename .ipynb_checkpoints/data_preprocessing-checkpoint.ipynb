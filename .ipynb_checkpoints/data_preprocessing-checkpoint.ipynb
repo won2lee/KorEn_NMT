{
 "cells": [
  {
   "cell_type": "code",
   "execution_count": 2,
   "metadata": {},
   "outputs": [],
   "source": [
    "import pandas as pd\n",
    "from konlpy.tag import Okt\n",
    "okt=Okt()"
   ]
  },
  {
   "cell_type": "code",
   "execution_count": 3,
   "metadata": {},
   "outputs": [],
   "source": [
    "df = pd.read_excel('../../Data/3_문어체_뉴스(1)_191213.xlsx')"
   ]
  },
  {
   "cell_type": "code",
   "execution_count": 4,
   "metadata": {},
   "outputs": [],
   "source": [
    "parallel = df['ID 원문 번역문'.split(' ')]"
   ]
  },
  {
   "cell_type": "code",
   "execution_count": 5,
   "metadata": {},
   "outputs": [],
   "source": [
    "test_data = parallel[parallel['ID']%8 == 0]\n",
    "dev_data = parallel[parallel['ID']%8 == 4]\n",
    "train_data = parallel[parallel['ID']%4 != 0]\n"
   ]
  },
  {
   "cell_type": "code",
   "execution_count": 11,
   "metadata": {},
   "outputs": [],
   "source": [
    "def ko_preprocess(sentences,fn):\n",
    "    sents = [s.split(' ') for s in sentences]\n",
    "\n",
    "    X = [' '.join(['_'+ sy for sy in s]) for s in sents] \n",
    "    X = [okt.morphs(s) for s in X]\n",
    "    sents = []\n",
    "\n",
    "    for s in X:\n",
    "        n=0\n",
    "        sent = []\n",
    "        for sy in s:\n",
    "            if sy =='_':\n",
    "                n=1\n",
    "                continue\n",
    "            if n==1:\n",
    "                sy = '_'+sy\n",
    "                n=0\n",
    "            sent.append(sy)\n",
    "        sents.append(' '.join(sent))  \n",
    "\n",
    "    to_save = '\\n'.join(sents)   \n",
    "\n",
    "    with open(fn,'w') as f:\n",
    "        f.write(to_save)    \n",
    "    return to_save\n",
    "\n",
    "\n",
    "def en_preprocess(sentences, fn):\n",
    "\n",
    "    import re\n",
    "    p = re.compile(r'(?P<non_en>[^0-9a-zA-Z\\s\\.\\-])')\n",
    "    q = re.compile(r'\\.\\s')\n",
    "    r = re.compile(r'\\.$')\n",
    "    s = re.compile(r'\\s{2,}')\n",
    "    sents = []\n",
    "    for sent in sentences:\n",
    "        sents.append(s.sub(' ',r.sub(' . ',q.sub(' . ',p.sub(' \\g<non_en> ',sent)))).strip())\n",
    "\n",
    "    to_save = '\\n'.join(sents)\n",
    "    \n",
    "    with open(fn,'w') as f:\n",
    "        f.write(to_save)    \n",
    "\n",
    "    return to_save"
   ]
  },
  {
   "cell_type": "code",
   "execution_count": 41,
   "metadata": {},
   "outputs": [],
   "source": [
    "data_nm = 'test dev train'.split(' ')\n",
    "path = './en_es_data/'\n",
    "for i,ds in enumerate([test_data, dev_data, train_data]): \n",
    "    X = ds['원문']\n",
    "    _ = ko_preprocess(X, path+data_nm[i]+'.es')"
   ]
  },
  {
   "cell_type": "code",
   "execution_count": 12,
   "metadata": {},
   "outputs": [],
   "source": [
    "data_nm = 'test dev train'.split(' ')\n",
    "path = './en_es_data/'\n",
    "for i,ds in enumerate([test_data, dev_data, train_data]): \n",
    "    X = ds['번역문']\n",
    "    _ = en_preprocess(X, path+data_nm[i]+'.en')"
   ]
  },
  {
   "cell_type": "code",
   "execution_count": null,
   "metadata": {},
   "outputs": [],
   "source": []
  },
  {
   "cell_type": "code",
   "execution_count": null,
   "metadata": {},
   "outputs": [],
   "source": []
  },
  {
   "cell_type": "code",
   "execution_count": null,
   "metadata": {},
   "outputs": [],
   "source": []
  },
  {
   "cell_type": "code",
   "execution_count": null,
   "metadata": {},
   "outputs": [],
   "source": []
  },
  {
   "cell_type": "code",
   "execution_count": null,
   "metadata": {},
   "outputs": [],
   "source": []
  },
  {
   "cell_type": "code",
   "execution_count": null,
   "metadata": {},
   "outputs": [],
   "source": []
  },
  {
   "cell_type": "code",
   "execution_count": null,
   "metadata": {},
   "outputs": [],
   "source": []
  },
  {
   "cell_type": "code",
   "execution_count": 8,
   "metadata": {},
   "outputs": [],
   "source": [
    "X = [' '.join(['_'+ sy for sy in s]) for s in sents]   "
   ]
  },
  {
   "cell_type": "code",
   "execution_count": 12,
   "metadata": {},
   "outputs": [],
   "source": [
    "X = [okt.morphs(s) for s in X]"
   ]
  },
  {
   "cell_type": "code",
   "execution_count": 15,
   "metadata": {},
   "outputs": [],
   "source": [
    "sents = []\n",
    "for s in X:\n",
    "    n=0\n",
    "    sent = []\n",
    "    for sy in s:\n",
    "        if sy =='_':\n",
    "            n=1\n",
    "            continue\n",
    "        if n==1:\n",
    "            sy = '_'+sy\n",
    "            n=0\n",
    "        sent.append(sy)\n",
    "    sents.append(' '.join(sent))   "
   ]
  },
  {
   "cell_type": "code",
   "execution_count": 17,
   "metadata": {},
   "outputs": [],
   "source": [
    "to_save = '\\n'.join(sents)"
   ]
  },
  {
   "cell_type": "code",
   "execution_count": 19,
   "metadata": {},
   "outputs": [],
   "source": [
    "with open('data_to_test.txt','w') as f:\n",
    "    f.write(to_save)"
   ]
  },
  {
   "cell_type": "code",
   "execution_count": 16,
   "metadata": {},
   "outputs": [
    {
     "data": {
      "text/plain": [
       "['_글래스도어 는 _매년 _직원 _수 _최소 _1000 명 _이상 의 _기업 을 _대상 으로 _직원 _만족도 와 _내부 _복지 _및 _보상 체계 , _기업 _문화 _및 _가치 _등 을 _5 점 _만점 으로 _평가 해 _일 하기 _좋은 _최고 의 _직장 을 _선정 하고 _있다 .',\n",
       " '_글로벌 _IT _컨설팅 _업체 _로아컨설팅 은 _스마트 _글라스 가 _휴대 성과 _조작 _편의 , _보이는 _화면 _크기 , _몰입 감 , _앱 _생태계 _측면 _등 에서 _다른 _세컨드 _디바이스 를 _압도 한다고 _평가 했다 .',\n",
       " '_글로벌 _IT 기업 들 의 _투자 _연기 와 _재고 _정리 _등 으로 _지난해 _하반기 부터 _반도체 _수요 가 _줄면서 _내림세를 _타기 _시작 했다 .',\n",
       " '_글로벌 _경기 가 _둔화 되는 _상황 에서 _한국 은 _내 수 _및 _기업 _투자 _등 이 _신 통치 _않아 _뚜렷한 _모멘텀 ( 상승 동력 ) 도 _없는 _상황 이다 .',\n",
       " '_글로벌 _경제 분석 기관 _옥스퍼드 _이 코노 믹스 는 _올해 _연중 의 _추가 _2회 _기준금리 _인상 _전망 에 _변함이 _없지만 , _내년 에는 _리스크 _관리 를 _위해 _긴축 _속도 가 _조정 _가능성 이 _있다고 _관측 했다 .',\n",
       " '_글로벌 _교육 _문화 _기업 _비상교육 _자회사 _초등 _스마트 학습 _브랜드 _‘ 와이즈캠프 ’ 가 _2월 _25일 부터 _‘ AI _서술 형 특강 ’ 을 _선보인다 .',\n",
       " '_글로벌 _기계 · 건설 _소프트웨어 _개발 사 _마이 다스 아이티 ( 대표 _이형우 ) 는 _삼 성 전자 와 _공동 _과제 로 _개발 한 _CAE _소프트웨어 _‘ midas _MeshFree ’ 의 _프리웨어 _버전 을 _무상 _배포 한다고 _밝혔다 .',\n",
       " '_글로벌 _블록 체인 _연구 센터 ( GBC ) 가 _설립 한 _아이 닥스 ( IDAX ) 는 _자산 _거래 에 _중점 을 _둔 _금융 _서비스 _플랫폼 으로 _코인 _거래 , _OTC _장외 _거래 , _선물 , _옵션거래 , _마진 거래 _등 _다양한 _서비스 를 _세계 _87 개국 에 _제공 하고 _있다 .',\n",
       " '_글로벌 _선물 시장 _가격 이 _국내 _시장 에 _반영 되기까지 _약 _6 개월 이 _걸리는 _만큼 _밀 _가격 _파동 은 _내년 _1월 경 _분수령 을 _맞을 _것 으로 _보인다 .',\n",
       " '_글로벌 _수요 _증가 가 _기대 되는 _이차전지 _역시 _올해 _전 망치 ( 17.6% ) 와 _비교 하면 _절반 _수준 인 _8.6% 의 _수출 액 _증가 가 _예상 됐다 .']"
      ]
     },
     "execution_count": 16,
     "metadata": {},
     "output_type": "execute_result"
    }
   ],
   "source": [
    "sents[:10]"
   ]
  },
  {
   "cell_type": "code",
   "execution_count": 11,
   "metadata": {},
   "outputs": [
    {
     "name": "stdout",
     "output_type": "stream",
     "text": [
      "[['_', '글래스도어', '는', '_', '매년', '_', '직원', '_', '수', '_', '최소', '_', '1000', '명', '_', '이상', '의', '_', '기업', '을', '_', '대상', '으로', '_', '직원', '_', '만족도', '와', '_', '내부', '_', '복지', '_', '및', '_', '보상', '체계', ',', '_', '기업', '_', '문화', '_', '및', '_', '가치', '_', '등', '을', '_', '5', '점', '_', '만점', '으로', '_', '평가', '해', '_', '일', '하기', '_', '좋은', '_', '최고', '의', '_', '직장', '을', '_', '선정', '하고', '_', '있다', '.'], ['_', '글로벌', '_', 'IT', '_', '컨설팅', '_', '업체', '_', '로아컨설팅', '은', '_', '스마트', '_', '글라스', '가', '_', '휴대', '성과', '_', '조작', '_', '편의', ',', '_', '보이는', '_', '화면', '_', '크기', ',', '_', '몰입', '감', ',', '_', '앱', '_', '생태계', '_', '측면', '_', '등', '에서', '_', '다른', '_', '세컨드', '_', '디바이스', '를', '_', '압도', '한다고', '_', '평가', '했다', '.'], ['_', '글로벌', '_', 'IT', '기업', '들', '의', '_', '투자', '_', '연기', '와', '_', '재고', '_', '정리', '_', '등', '으로', '_', '지난해', '_', '하반기', '부터', '_', '반도체', '_', '수요', '가', '_', '줄면서', '_', '내림세를', '_', '타기', '_', '시작', '했다', '.'], ['_', '글로벌', '_', '경기', '가', '_', '둔화', '되는', '_', '상황', '에서', '_', '한국', '은', '_', '내', '수', '_', '및', '_', '기업', '_', '투자', '_', '등', '이', '_', '신', '통치', '_', '않아', '_', '뚜렷한', '_', '모멘텀', '(', '상승', '동력', ')', '도', '_', '없는', '_', '상황', '이다', '.'], ['_', '글로벌', '_', '경제', '분석', '기관', '_', '옥스퍼드', '_', '이', '코노', '믹스', '는', '_', '올해', '_', '연중', '의', '_', '추가', '_', '2회', '_', '기준금리', '_', '인상', '_', '전망', '에', '_', '변함이', '_', '없지만', ',', '_', '내년', '에는', '_', '리스크', '_', '관리', '를', '_', '위해', '_', '긴축', '_', '속도', '가', '_', '조정', '_', '가능성', '이', '_', '있다고', '_', '관측', '했다', '.'], ['_', '글로벌', '_', '교육', '_', '문화', '_', '기업', '_', '비상교육', '_', '자회사', '_', '초등', '_', '스마트', '학습', '_', '브랜드', '_', '‘', '와이즈캠프', '’', '가', '_', '2월', '_', '25일', '부터', '_', '‘', 'AI', '_', '서술', '형', '특강', '’', '을', '_', '선보인다', '.'], ['_', '글로벌', '_', '기계', '·', '건설', '_', '소프트웨어', '_', '개발', '사', '_', '마이', '다스', '아이티', '(', '대표', '_', '이형우', ')', '는', '_', '삼', '성', '전자', '와', '_', '공동', '_', '과제', '로', '_', '개발', '한', '_', 'CAE', '_', '소프트웨어', '_', '‘', 'midas', '_', 'MeshFree', '’', '의', '_', '프리웨어', '_', '버전', '을', '_', '무상', '_', '배포', '한다고', '_', '밝혔다', '.'], ['_', '글로벌', '_', '블록', '체인', '_', '연구', '센터', '(', 'GBC', ')', '가', '_', '설립', '한', '_', '아이', '닥스', '(', 'IDAX', ')', '는', '_', '자산', '_', '거래', '에', '_', '중점', '을', '_', '둔', '_', '금융', '_', '서비스', '_', '플랫폼', '으로', '_', '코인', '_', '거래', ',', '_', 'OTC', '_', '장외', '_', '거래', ',', '_', '선물', ',', '_', '옵션거래', ',', '_', '마진', '거래', '_', '등', '_', '다양한', '_', '서비스', '를', '_', '세계', '_', '87', '개국', '에', '_', '제공', '하고', '_', '있다', '.'], ['_', '글로벌', '_', '선물', '시장', '_', '가격', '이', '_', '국내', '_', '시장', '에', '_', '반영', '되기까지', '_', '약', '_', '6', '개월', '이', '_', '걸리는', '_', '만큼', '_', '밀', '_', '가격', '_', '파동', '은', '_', '내년', '_', '1월', '경', '_', '분수령', '을', '_', '맞을', '_', '것', '으로', '_', '보인다', '.'], ['_', '글로벌', '_', '수요', '_', '증가', '가', '_', '기대', '되는', '_', '이차전지', '_', '역시', '_', '올해', '_', '전', '망치', '(', '17.6%', ')', '와', '_', '비교', '하면', '_', '절반', '_', '수준', '인', '_', '8.6%', '의', '_', '수출', '액', '_', '증가', '가', '_', '예상', '됐다', '.']]\n"
     ]
    }
   ],
   "source": [
    "print(tokened_sents[:10])"
   ]
  },
  {
   "cell_type": "code",
   "execution_count": 19,
   "metadata": {},
   "outputs": [],
   "source": [
    "groups = df[df['ID']%8 == i]) for i in range(8)])\n"
   ]
  },
  {
   "cell_type": "code",
   "execution_count": 20,
   "metadata": {},
   "outputs": [
    {
     "data": {
      "text/plain": [
       "200000"
      ]
     },
     "execution_count": 20,
     "metadata": {},
     "output_type": "execute_result"
    }
   ],
   "source": [
    "groups"
   ]
  },
  {
   "cell_type": "code",
   "execution_count": 17,
   "metadata": {},
   "outputs": [
    {
     "name": "stdout",
     "output_type": "stream",
     "text": [
      "[50241, 49678, 50387, 49694] 200000 200000\n"
     ]
    }
   ],
   "source": [
    "print(groups, sum(groups), len(df))"
   ]
  },
  {
   "cell_type": "code",
   "execution_count": 18,
   "metadata": {},
   "outputs": [
    {
     "data": {
      "text/plain": [
       "200000"
      ]
     },
     "execution_count": 18,
     "metadata": {},
     "output_type": "execute_result"
    }
   ],
   "source": [
    "len(df[df['ID']%8 == 0])+len(df[df['ID']%8 == 4])+len(df[df['ID']%4 != 0])"
   ]
  },
  {
   "cell_type": "code",
   "execution_count": 14,
   "metadata": {},
   "outputs": [
    {
     "data": {
      "text/html": [
       "<div>\n",
       "<style scoped>\n",
       "    .dataframe tbody tr th:only-of-type {\n",
       "        vertical-align: middle;\n",
       "    }\n",
       "\n",
       "    .dataframe tbody tr th {\n",
       "        vertical-align: top;\n",
       "    }\n",
       "\n",
       "    .dataframe thead th {\n",
       "        text-align: right;\n",
       "    }\n",
       "</style>\n",
       "<table border=\"1\" class=\"dataframe\">\n",
       "  <thead>\n",
       "    <tr style=\"text-align: right;\">\n",
       "      <th></th>\n",
       "      <th>ID</th>\n",
       "      <th>날짜</th>\n",
       "      <th>자동분류1</th>\n",
       "      <th>자동분류2</th>\n",
       "      <th>자동분류3</th>\n",
       "      <th>URL</th>\n",
       "      <th>언론사</th>\n",
       "      <th>원문</th>\n",
       "      <th>번역문</th>\n",
       "    </tr>\n",
       "  </thead>\n",
       "  <tbody>\n",
       "    <tr>\n",
       "      <th>0</th>\n",
       "      <td>329782</td>\n",
       "      <td>2018-08-21</td>\n",
       "      <td>스포츠,올림픽_아시안게임</td>\n",
       "      <td>NaN</td>\n",
       "      <td>NaN</td>\n",
       "      <td>http://news.kmib.co.kr/article/view.asp?arcid=...</td>\n",
       "      <td>국민일보</td>\n",
       "      <td>근본적인 문제는 제도 개선을 통해 이뤄내야 하지만 당면한 아시안게임 금메달을 위해선...</td>\n",
       "      <td>The fundamental problem should be achieved thr...</td>\n",
       "    </tr>\n",
       "    <tr>\n",
       "      <th>1</th>\n",
       "      <td>322438</td>\n",
       "      <td>2018-08-20</td>\n",
       "      <td>경제,취업_창업</td>\n",
       "      <td>경제,산업_기업</td>\n",
       "      <td>NaN</td>\n",
       "      <td>http://news.kmib.co.kr/article/view.asp?arcid=...</td>\n",
       "      <td>국민일보</td>\n",
       "      <td>근본적인 해결책은 아니라는 지적이 있지만 대내외 여건이 좋지 않고 정부가 쓸 카드도...</td>\n",
       "      <td>Although it is pointed out that it is not a fu...</td>\n",
       "    </tr>\n",
       "    <tr>\n",
       "      <th>2</th>\n",
       "      <td>1361961</td>\n",
       "      <td>2019-04-21</td>\n",
       "      <td>경제,서비스_쇼핑</td>\n",
       "      <td>경제,산업_기업</td>\n",
       "      <td>IT_과학,IT_과학일반</td>\n",
       "      <td>http://news.kmib.co.kr/article/view.asp?arcid=...</td>\n",
       "      <td>국민일보</td>\n",
       "      <td>근사하게 ‘혼밥’을 즐기고 건강도 챙기려는 1인 가구도 늘면서, 간편히 양식과 샐러...</td>\n",
       "      <td>The number of one-person households who enjoy ...</td>\n",
       "    </tr>\n",
       "    <tr>\n",
       "      <th>3</th>\n",
       "      <td>600149</td>\n",
       "      <td>2018-10-27</td>\n",
       "      <td>IT_과학,인터넷_SNS</td>\n",
       "      <td>IT_과학,콘텐츠</td>\n",
       "      <td>문화,생활</td>\n",
       "      <td>http://news.kmib.co.kr/article/view.asp?arcid=...</td>\n",
       "      <td>국민일보</td>\n",
       "      <td>근사한 오디오 세트도 없는 그가 이 음악을 듣는 방법은 컴퓨터를 켜고 유튜브에서 검...</td>\n",
       "      <td>Even without a nice audio player, he can liste...</td>\n",
       "    </tr>\n",
       "    <tr>\n",
       "      <th>5</th>\n",
       "      <td>791001</td>\n",
       "      <td>2018-12-10</td>\n",
       "      <td>IT_과학,과학</td>\n",
       "      <td>NaN</td>\n",
       "      <td>NaN</td>\n",
       "      <td>http://news.kmib.co.kr/article/view.asp?arcid=...</td>\n",
       "      <td>국민일보</td>\n",
       "      <td>근육의 감소는 운동능력 저하로 골절 위험을 증가시킬 뿐만 아니라 일상생활의 수행능력...</td>\n",
       "      <td>Decreased muscle not only increases the risk o...</td>\n",
       "    </tr>\n",
       "    <tr>\n",
       "      <th>6</th>\n",
       "      <td>604110</td>\n",
       "      <td>2018-10-29</td>\n",
       "      <td>문화,생활</td>\n",
       "      <td>사회,사회일반</td>\n",
       "      <td>문화,학술_문화재</td>\n",
       "      <td>http://news.kmib.co.kr/article/view.asp?arcid=...</td>\n",
       "      <td>국민일보</td>\n",
       "      <td>근육이 줄어드는 것을 그대로 방치하면 30년만 지나도 몸을 지탱할 수 없을 정도의 ...</td>\n",
       "      <td>If you let your muscles diminish, you will bec...</td>\n",
       "    </tr>\n",
       "    <tr>\n",
       "      <th>10</th>\n",
       "      <td>628310</td>\n",
       "      <td>2018-11-03</td>\n",
       "      <td>경제,서비스_쇼핑</td>\n",
       "      <td>경제,유통</td>\n",
       "      <td>IT_과학,인터넷_SNS</td>\n",
       "      <td>http://news.kmib.co.kr/article/view.asp?arcid=...</td>\n",
       "      <td>국민일보</td>\n",
       "      <td>글 작성자는 자신의 아내가 이마트에 다녀왔다고 밝히며 “손님 4명 정도가 진열대에 ...</td>\n",
       "      <td>The writer said his wife went to E-Mart and sa...</td>\n",
       "    </tr>\n",
       "    <tr>\n",
       "      <th>11</th>\n",
       "      <td>803315</td>\n",
       "      <td>2018-12-13</td>\n",
       "      <td>사회,환경</td>\n",
       "      <td>문화,문화일반</td>\n",
       "      <td>NaN</td>\n",
       "      <td>http://news.kmib.co.kr/article/view.asp?arcid=...</td>\n",
       "      <td>국민일보</td>\n",
       "      <td>글 작성자도 무상으로 비닐봉투를 지급하다가 ‘봉파라치’에게 걸려 과태료를 물게 되자...</td>\n",
       "      <td>The writer also provided plastic bags free of ...</td>\n",
       "    </tr>\n",
       "    <tr>\n",
       "      <th>13</th>\n",
       "      <td>372467</td>\n",
       "      <td>2018-08-31</td>\n",
       "      <td>경제,국제경제</td>\n",
       "      <td>경제,금융_재테크</td>\n",
       "      <td>경제,증권_증시</td>\n",
       "      <td>http://news.kmib.co.kr/article/view.asp?arcid=...</td>\n",
       "      <td>국민일보</td>\n",
       "      <td>글라이드재단은 해마다 2000만 달러의 예산을 들여 빈민 75만여 명에게 무료 식사...</td>\n",
       "      <td>Glide Foundation provides services such as fre...</td>\n",
       "    </tr>\n",
       "    <tr>\n",
       "      <th>15</th>\n",
       "      <td>1176745</td>\n",
       "      <td>2019-03-10</td>\n",
       "      <td>경제,금융_재테크</td>\n",
       "      <td>경제,국제경제</td>\n",
       "      <td>경제,산업_기업</td>\n",
       "      <td>http://news.kmib.co.kr/article/view.asp?arcid=...</td>\n",
       "      <td>국민일보</td>\n",
       "      <td>글래스 루이스는 지난해 5월 현대차그룹의 지배구조 개편안에는 ‘반대’ 입장을 내며 ...</td>\n",
       "      <td>Glass Lewis sided with Elliott in May last yea...</td>\n",
       "    </tr>\n",
       "  </tbody>\n",
       "</table>\n",
       "</div>"
      ],
      "text/plain": [
       "         ID         날짜          자동분류1      자동분류2          자동분류3  \\\n",
       "0    329782 2018-08-21  스포츠,올림픽_아시안게임        NaN            NaN   \n",
       "1    322438 2018-08-20       경제,취업_창업   경제,산업_기업            NaN   \n",
       "2   1361961 2019-04-21      경제,서비스_쇼핑   경제,산업_기업  IT_과학,IT_과학일반   \n",
       "3    600149 2018-10-27  IT_과학,인터넷_SNS  IT_과학,콘텐츠          문화,생활   \n",
       "5    791001 2018-12-10       IT_과학,과학        NaN            NaN   \n",
       "6    604110 2018-10-29          문화,생활    사회,사회일반      문화,학술_문화재   \n",
       "10   628310 2018-11-03      경제,서비스_쇼핑      경제,유통  IT_과학,인터넷_SNS   \n",
       "11   803315 2018-12-13          사회,환경    문화,문화일반            NaN   \n",
       "13   372467 2018-08-31        경제,국제경제  경제,금융_재테크       경제,증권_증시   \n",
       "15  1176745 2019-03-10      경제,금융_재테크    경제,국제경제       경제,산업_기업   \n",
       "\n",
       "                                                  URL   언론사  \\\n",
       "0   http://news.kmib.co.kr/article/view.asp?arcid=...  국민일보   \n",
       "1   http://news.kmib.co.kr/article/view.asp?arcid=...  국민일보   \n",
       "2   http://news.kmib.co.kr/article/view.asp?arcid=...  국민일보   \n",
       "3   http://news.kmib.co.kr/article/view.asp?arcid=...  국민일보   \n",
       "5   http://news.kmib.co.kr/article/view.asp?arcid=...  국민일보   \n",
       "6   http://news.kmib.co.kr/article/view.asp?arcid=...  국민일보   \n",
       "10  http://news.kmib.co.kr/article/view.asp?arcid=...  국민일보   \n",
       "11  http://news.kmib.co.kr/article/view.asp?arcid=...  국민일보   \n",
       "13  http://news.kmib.co.kr/article/view.asp?arcid=...  국민일보   \n",
       "15  http://news.kmib.co.kr/article/view.asp?arcid=...  국민일보   \n",
       "\n",
       "                                                   원문  \\\n",
       "0   근본적인 문제는 제도 개선을 통해 이뤄내야 하지만 당면한 아시안게임 금메달을 위해선...   \n",
       "1   근본적인 해결책은 아니라는 지적이 있지만 대내외 여건이 좋지 않고 정부가 쓸 카드도...   \n",
       "2   근사하게 ‘혼밥’을 즐기고 건강도 챙기려는 1인 가구도 늘면서, 간편히 양식과 샐러...   \n",
       "3   근사한 오디오 세트도 없는 그가 이 음악을 듣는 방법은 컴퓨터를 켜고 유튜브에서 검...   \n",
       "5   근육의 감소는 운동능력 저하로 골절 위험을 증가시킬 뿐만 아니라 일상생활의 수행능력...   \n",
       "6   근육이 줄어드는 것을 그대로 방치하면 30년만 지나도 몸을 지탱할 수 없을 정도의 ...   \n",
       "10  글 작성자는 자신의 아내가 이마트에 다녀왔다고 밝히며 “손님 4명 정도가 진열대에 ...   \n",
       "11  글 작성자도 무상으로 비닐봉투를 지급하다가 ‘봉파라치’에게 걸려 과태료를 물게 되자...   \n",
       "13  글라이드재단은 해마다 2000만 달러의 예산을 들여 빈민 75만여 명에게 무료 식사...   \n",
       "15  글래스 루이스는 지난해 5월 현대차그룹의 지배구조 개편안에는 ‘반대’ 입장을 내며 ...   \n",
       "\n",
       "                                                  번역문  \n",
       "0   The fundamental problem should be achieved thr...  \n",
       "1   Although it is pointed out that it is not a fu...  \n",
       "2   The number of one-person households who enjoy ...  \n",
       "3   Even without a nice audio player, he can liste...  \n",
       "5   Decreased muscle not only increases the risk o...  \n",
       "6   If you let your muscles diminish, you will bec...  \n",
       "10  The writer said his wife went to E-Mart and sa...  \n",
       "11  The writer also provided plastic bags free of ...  \n",
       "13  Glide Foundation provides services such as fre...  \n",
       "15  Glass Lewis sided with Elliott in May last yea...  "
      ]
     },
     "execution_count": 14,
     "metadata": {},
     "output_type": "execute_result"
    }
   ],
   "source": [
    "train.head(10)"
   ]
  },
  {
   "cell_type": "code",
   "execution_count": null,
   "metadata": {},
   "outputs": [],
   "source": [
    "with open('../../Data/')"
   ]
  }
 ],
 "metadata": {
  "kernelspec": {
   "display_name": "Python 3",
   "language": "python",
   "name": "python3"
  },
  "language_info": {
   "codemirror_mode": {
    "name": "ipython",
    "version": 3
   },
   "file_extension": ".py",
   "mimetype": "text/x-python",
   "name": "python",
   "nbconvert_exporter": "python",
   "pygments_lexer": "ipython3",
   "version": "3.7.4"
  }
 },
 "nbformat": 4,
 "nbformat_minor": 2
}
